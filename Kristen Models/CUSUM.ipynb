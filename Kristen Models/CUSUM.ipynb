{
 "cells": [
  {
   "cell_type": "code",
   "execution_count": null,
   "metadata": {},
   "outputs": [],
   "source": [
    "import pandas as pd\n",
    "import numpy as np\n",
    "import matplotlib.pyplot as plt"
   ]
  },
  {
   "cell_type": "code",
   "execution_count": null,
   "metadata": {},
   "outputs": [],
   "source": [
    "# Load\n",
    "file = 'data.csv'  # Update later\n",
    "df = pd.read_csv(file)\n",
    "df = df[['Time Period','UserID','Date','Value 1']]\n",
    "\n",
    "# Delete later if not needed\n",
    "df['Date'] = pd.to_datetime(df['Date'])\n"
   ]
  },
  {
   "cell_type": "code",
   "execution_count": null,
   "metadata": {},
   "outputs": [],
   "source": [
    "# Time A v B\n",
    "time_a_values = df[df[\"Time Period\"] == \"Time A\"][\"Value 1\"]\n",
    "time_b_values = df[df[\"Time Period\"] == \"Time B\"][\"Value 1\"]\n",
    "\n",
    "# Combine for continuous analysis\n",
    "combined_values = pd.concat([time_a_values, time_b_values]).reset_index(drop=True)\n",
    "\n",
    "# Calculate the baseline mean and stdev - baseline Time A\n",
    "mean = time_a_values.mean()\n",
    "std = time_a_values.std()\n",
    "\n",
    "k = 0.5 * std # Reference value\n",
    "h = 5 * std # Control limit\n",
    "\n",
    "# Init CUSUM lists\n",
    "cusum_pos = [0]\n",
    "cusum_neg = [0]\n",
    "\n",
    "# CUMSUM calculation\n",
    "for x in combined_values:\n",
    "    cusum_pos.append(max(0, cusum_pos[-1] + (x - mean - k)))\n",
    "    cusum_neg.append(min(0, cusum_neg[-1] + (x - mean + k)))\n",
    "\n",
    "# Detect shifts\n",
    "if max(cusum_pos) > h or min(cusum_neg) < -h:\n",
    "    print(\"Shift detected in the process!\")\n",
    "else:\n",
    "    print(\"No significant shift detected.\")\n"
   ]
  },
  {
   "cell_type": "code",
   "execution_count": null,
   "metadata": {},
   "outputs": [],
   "source": [
    "# Prep for plotting\n",
    "cusum_pos = cusum_pos[1:]\n",
    "cusum_neg = cusum_neg[1:]\n",
    "\n",
    "# Create CUSUM chart\n",
    "plt.figure(figsize=(12, 6))\n",
    "plt.plot(cusum_pos, label='CUSUM Positive', color='green', linestyle='-')\n",
    "plt.plot(cusum_neg, label='CUSUM Negative', color='red', linestyle='-')\n",
    "plt.axhline(h, color='black', linestyle='--', linewidth=1, label='Control Limit')\n",
    "plt.axhline(-h, color='black', linestyle='--', linewidth=1)\n",
    "plt.title('CUSUM Chart for Value 1')\n",
    "plt.xlabel('Observation')\n",
    "plt.ylabel('CUSUM')\n",
    "plt.legend()\n",
    "plt.grid(True)\n",
    "plt.show()"
   ]
  }
 ],
 "metadata": {
  "language_info": {
   "name": "python"
  }
 },
 "nbformat": 4,
 "nbformat_minor": 2
}
