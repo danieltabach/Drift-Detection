{
 "cells": [
  {
   "cell_type": "code",
   "execution_count": 1,
   "metadata": {},
   "outputs": [],
   "source": [
    "import pandas as pd\n",
    "from scipy.stats import ks_2samp"
   ]
  },
  {
   "cell_type": "code",
   "execution_count": null,
   "metadata": {},
   "outputs": [],
   "source": [
    "# Load data\n",
    "file = '../fakedata.csv' # Update this later when we have the simulated data\n",
    "df = pd.read_csv(file)\n",
    "df = df[['Time Period','UserID','Date','Value 1']]\n",
    "\n",
    "# Delete later if date format is ok\n",
    "df['Date'] = pd.to_datetime(df['Date'])\n",
    "\n",
    "# Separating Time A v B\n",
    "time_a_values = df[df[\"Time Period\"] == \"Time A\"][\"Value 1\"]\n",
    "time_b_values = df[df[\"Time Period\"] == \"Time B\"][\"Value 1\"]"
   ]
  },
  {
   "cell_type": "code",
   "execution_count": 3,
   "metadata": {},
   "outputs": [
    {
     "name": "stdout",
     "output_type": "stream",
     "text": [
      "KS Statistic: 0.759090909090909\n",
      "P-value: 1.5401304207925007e-08\n",
      "Reject the null hypothesis: Distributions are different.\n"
     ]
    }
   ],
   "source": [
    "# Two sample KS test\n",
    "ks_stat, p_value = ks_2samp(time_a_values, time_b_values)\n",
    "\n",
    "print(f\"KS Statistic: {ks_stat}\")\n",
    "print(f\"P-value: {p_value}\")\n",
    "\n",
    "# Interpret the result\n",
    "if p_value > 0.05:\n",
    "    print(\"Cannot reject the null hypothesis: Distributions are similar.\")\n",
    "else:\n",
    "    print(\"Reject the null hypothesis: Distributions are different.\")"
   ]
  }
 ],
 "metadata": {
  "kernelspec": {
   "display_name": "Python 3",
   "language": "python",
   "name": "python3"
  },
  "language_info": {
   "codemirror_mode": {
    "name": "ipython",
    "version": 3
   },
   "file_extension": ".py",
   "mimetype": "text/x-python",
   "name": "python",
   "nbconvert_exporter": "python",
   "pygments_lexer": "ipython3",
   "version": "3.12.4"
  }
 },
 "nbformat": 4,
 "nbformat_minor": 2
}
