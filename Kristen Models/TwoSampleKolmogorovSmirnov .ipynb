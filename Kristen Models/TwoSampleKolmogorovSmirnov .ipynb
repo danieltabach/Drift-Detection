{
 "cells": [
  {
   "cell_type": "code",
   "execution_count": null,
   "metadata": {},
   "outputs": [],
   "source": [
    "import pandas as pd\n",
    "from scipy.stats import ks_2samp"
   ]
  },
  {
   "cell_type": "code",
   "execution_count": null,
   "metadata": {},
   "outputs": [],
   "source": [
    "\n",
    "# Load data\n",
    "file = 'data.csv' # Update this later when we have the simulated data\n",
    "df = pd.read_csv(file)\n",
    "\n",
    "# Delete later if date format is ok\n",
    "df['Date'] = pd.to_datetime(df['Date'])\n",
    "\n",
    "# Separating Time A v B\n",
    "time_a_values = df[df[\"Time Period\"] == \"Time A\"][\"Value 1\"]\n",
    "time_b_values = df[df[\"Time Period\"] == \"Time B\"][\"Value 1\"]"
   ]
  },
  {
   "cell_type": "code",
   "execution_count": null,
   "metadata": {},
   "outputs": [],
   "source": [
    "# Two sample KS test\n",
    "ks_stat, p_value = ks_2samp(time_a_values, time_b_values)\n",
    "\n",
    "print(f\"KS Statistic: {ks_stat}\")\n",
    "print(f\"P-value: {p_value}\")\n",
    "\n",
    "# Interpret the result\n",
    "if p_value > 0.05:\n",
    "    print(\"Cannot reject the null hypothesis: Distributions are similar.\")\n",
    "else:\n",
    "    print(\"Reject the null hypothesis: Distributions are different.\")"
   ]
  }
 ],
 "metadata": {
  "language_info": {
   "name": "python"
  }
 },
 "nbformat": 4,
 "nbformat_minor": 2
}
